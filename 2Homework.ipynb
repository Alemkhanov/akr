{
 "cells": [
  {
   "cell_type": "code",
   "execution_count": 1,
   "metadata": {},
   "outputs": [],
   "source": [
    "import numpy as np"
   ]
  },
  {
   "cell_type": "code",
   "execution_count": 2,
   "metadata": {},
   "outputs": [
    {
     "name": "stdout",
     "output_type": "stream",
     "text": [
      "[[0.70850941 0.96286801 0.73980501]\n",
      " [0.36638254 0.18765977 0.25215584]\n",
      " [0.87808901 0.42346646 0.02848579]\n",
      " [0.34777114 0.21852635 0.97518234]\n",
      " [0.08911224 0.57541762 0.67308799]\n",
      " [0.30016027 0.09804354 0.09883813]\n",
      " [0.11267099 0.91388606 0.89690927]\n",
      " [0.31325994 0.62747143 0.68723171]\n",
      " [0.12078098 0.53423244 0.32367184]\n",
      " [0.87452403 0.7778073  0.15795372]]\n",
      "[0.7085094130209595, 0.36638253695431855, 0.42346646195630055, 0.3477711387994993, 0.5754176249506447, 0.3001602669315395, 0.11267099265615599, 0.6274714312641224, 0.5342324405211832, 0.7778073005875321]\n"
     ]
    }
   ],
   "source": [
    "#1\n",
    "a = np.random.random((10,3))\n",
    "print(a)\n",
    "print([x[np.abs(x-0.5).argmin()] for x in a])"
   ]
  },
  {
   "cell_type": "code",
   "execution_count": 3,
   "metadata": {},
   "outputs": [
    {
     "name": "stdout",
     "output_type": "stream",
     "text": [
      "[   8.81304457   11.20577614 2372.2177806    36.26504392   33.22207903\n",
      "   27.84980281]\n"
     ]
    }
   ],
   "source": [
    "#2\n",
    "a=np.random.random((6,6))\n",
    "print(np.sum(a,axis=1) / np.min(a,axis=0))"
   ]
  },
  {
   "cell_type": "code",
   "execution_count": 4,
   "metadata": {},
   "outputs": [
    {
     "data": {
      "text/plain": [
       "5"
      ]
     },
     "execution_count": 4,
     "metadata": {},
     "output_type": "execute_result"
    }
   ],
   "source": [
    "#3\n",
    "x = np.array([6, 2, 0, 3, 0, 0, 5, 7, 0])\n",
    "mask = x == 0\n",
    "x[1:][mask[:-1]].max()"
   ]
  },
  {
   "cell_type": "code",
   "execution_count": 5,
   "metadata": {},
   "outputs": [
    {
     "name": "stdout",
     "output_type": "stream",
     "text": [
      "[2. 2. 2. 2. 1. 4. 1. 1. 2. 1.]\n"
     ]
    }
   ],
   "source": [
    "#4\n",
    "x = np.ones(10)\n",
    "i = np.array([0,1,2,3,5,5,5,8])\n",
    "print(x + np.bincount(i,minlength=10))"
   ]
  },
  {
   "cell_type": "code",
   "execution_count": null,
   "metadata": {},
   "outputs": [],
   "source": []
  }
 ],
 "metadata": {
  "kernelspec": {
   "display_name": "Python 3",
   "language": "python",
   "name": "python3"
  },
  "language_info": {
   "codemirror_mode": {
    "name": "ipython",
    "version": 3
   },
   "file_extension": ".py",
   "mimetype": "text/x-python",
   "name": "python",
   "nbconvert_exporter": "python",
   "pygments_lexer": "ipython3",
   "version": "3.6.5"
  }
 },
 "nbformat": 4,
 "nbformat_minor": 2
}
